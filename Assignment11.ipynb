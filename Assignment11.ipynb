{
 "cells": [
  {
   "cell_type": "markdown",
   "id": "43bc2816-32cb-4173-9cd7-c6b4d2091bc6",
   "metadata": {},
   "source": [
    "Q1. What is multiprocessing in python? Why is it useful?"
   ]
  },
  {
   "cell_type": "code",
   "execution_count": 1,
   "id": "263909e1-74a7-44f3-b3a8-2f6919097d91",
   "metadata": {},
   "outputs": [
    {
     "name": "stdout",
     "output_type": "stream",
     "text": [
      "[1, 4, 9]\n"
     ]
    }
   ],
   "source": [
    "from multiprocessing import Pool\n",
    "\n",
    "def f(x):\n",
    "    return x*x\n",
    "\n",
    "if __name__ == '__main__':\n",
    "    with Pool(5) as p:\n",
    "        print(p.map(f, [1, 2, 3]))"
   ]
  },
  {
   "cell_type": "markdown",
   "id": "d11342c2-7406-454e-8fe3-761dbe88e67d",
   "metadata": {},
   "source": [
    "Q2. What are the differences between multiprocessing and multithreading?"
   ]
  },
  {
   "cell_type": "markdown",
   "id": "44dad555-5eca-4475-b287-4c8a9cd08c0a",
   "metadata": {},
   "source": [
    "#Multiprocessing uses two or more CPUs to increase computing power, whereas multithreading uses a single process with multiple code segments to increase computing power.\n",
    "\n",
    "#Multithreading focuses on generating computing threads from a single process, whereas multiprocessing increases computing power by adding CPUs."
   ]
  },
  {
   "cell_type": "markdown",
   "id": "87fc10dd-c195-4ffb-9b08-986d5b277847",
   "metadata": {},
   "source": [
    "Q3. Write a python code to create a process using the multiprocessing module."
   ]
  },
  {
   "cell_type": "code",
   "execution_count": 2,
   "id": "44578f19-9932-4ae9-84c3-8c3b908e828a",
   "metadata": {},
   "outputs": [
    {
     "name": "stdout",
     "output_type": "stream",
     "text": [
      "ID of main process: 110\n",
      "ID of process running worker1: 263\n",
      "ID of process running worker2: 266\n",
      "ID of process p1: 263\n",
      "ID of process p2: 266\n",
      "Both processes finished execution!\n",
      "Process p1 is alive: False\n",
      "Process p2 is alive: False\n"
     ]
    }
   ],
   "source": [
    "# importing the multiprocessing module\n",
    "import multiprocessing\n",
    "import os\n",
    "  \n",
    "def worker1():\n",
    "    # printing process id\n",
    "    print(\"ID of process running worker1: {}\".format(os.getpid()))\n",
    "  \n",
    "def worker2():\n",
    "    # printing process id\n",
    "    print(\"ID of process running worker2: {}\".format(os.getpid()))\n",
    "  \n",
    "if __name__ == \"__main__\":\n",
    "    # printing main program process id\n",
    "    print(\"ID of main process: {}\".format(os.getpid()))\n",
    "  \n",
    "    # creating processes\n",
    "    p1 = multiprocessing.Process(target=worker1)\n",
    "    p2 = multiprocessing.Process(target=worker2)\n",
    "  \n",
    "    # starting processes\n",
    "    p1.start()\n",
    "    p2.start()\n",
    "  \n",
    "    # process IDs\n",
    "    print(\"ID of process p1: {}\".format(p1.pid))\n",
    "    print(\"ID of process p2: {}\".format(p2.pid))\n",
    "  \n",
    "    # wait until processes are finished\n",
    "    p1.join()\n",
    "    p2.join()\n",
    "  \n",
    "    # both processes finished\n",
    "    print(\"Both processes finished execution!\")\n",
    "  \n",
    "    # check if processes are alive\n",
    "    print(\"Process p1 is alive: {}\".format(p1.is_alive()))\n",
    "    print(\"Process p2 is alive: {}\".format(p2.is_alive()))"
   ]
  },
  {
   "cell_type": "markdown",
   "id": "d546a745-3e7e-4583-bf25-742cf0ff3446",
   "metadata": {},
   "source": [
    "Q4. What is a multiprocessing pool in python? Why is it used?"
   ]
  },
  {
   "cell_type": "code",
   "execution_count": 3,
   "id": "05507c0f-c177-41e4-a002-f8f8e8476539",
   "metadata": {},
   "outputs": [
    {
     "name": "stdout",
     "output_type": "stream",
     "text": [
      "The name of continent is :  Asia \n",
      "The name of continent is : AmericaThe name of continent is : \n",
      " Europe\n",
      "The name of continent is :  Africa\n"
     ]
    }
   ],
   "source": [
    "from multiprocessing import Process\n",
    "\n",
    "\n",
    "def print_func(continent='Asia'):\n",
    "    print('The name of continent is : ', continent)\n",
    "\n",
    "if __name__ == \"__main__\":  # confirms that the code is under main function\n",
    "    names = ['America', 'Europe', 'Africa']\n",
    "    procs = []\n",
    "    proc = Process(target=print_func)  # instantiating without any argument\n",
    "    procs.append(proc)\n",
    "    proc.start()\n",
    "\n",
    "    # instantiating process with arguments\n",
    "    for name in names:\n",
    "        # print(name)\n",
    "        proc = Process(target=print_func, args=(name,))\n",
    "        procs.append(proc)\n",
    "        proc.start()\n",
    "\n",
    "    # complete the processes\n",
    "    for proc in procs:\n",
    "        proc.join()"
   ]
  },
  {
   "cell_type": "markdown",
   "id": "4459ec17-94b9-4b15-be1a-2b76bc3bde97",
   "metadata": {},
   "source": [
    "Q5. How can we create a pool of worker processes in python using the multiprocessing module?"
   ]
  },
  {
   "cell_type": "code",
   "execution_count": 4,
   "id": "47abe763-04cd-44d2-81d8-b7b8bfebde82",
   "metadata": {},
   "outputs": [
    {
     "name": "stdout",
     "output_type": "stream",
     "text": [
      "main line\n",
      "module name: __main__\n",
      "parent process: 7\n",
      "process id: 110\n",
      "function f\n",
      "module name: __main__\n",
      "parent process: 110\n",
      "process id: 365\n",
      "hello bob\n"
     ]
    }
   ],
   "source": [
    "from multiprocessing import Process\n",
    "import os\n",
    "\n",
    "def info(title):\n",
    "    print(title)\n",
    "    print('module name:', __name__)\n",
    "    print('parent process:', os.getppid())\n",
    "    print('process id:', os.getpid())\n",
    "\n",
    "def f(name):\n",
    "    info('function f')\n",
    "    print('hello', name)\n",
    "\n",
    "if __name__ == '__main__':\n",
    "    info('main line')\n",
    "    p = Process(target=f, args=('bob',))\n",
    "    p.start()\n",
    "    p.join()"
   ]
  },
  {
   "cell_type": "markdown",
   "id": "c67ab2db-62ab-4ddd-a879-f723613d61bd",
   "metadata": {},
   "source": [
    "Q6. Write a python program to create 4 processes, each process should print a different number using the\n",
    "multiprocessing module in python."
   ]
  },
  {
   "cell_type": "code",
   "execution_count": null,
   "id": "c32c2806-6bb0-4041-ae2c-cd05e15c9410",
   "metadata": {},
   "outputs": [],
   "source": []
  }
 ],
 "metadata": {
  "kernelspec": {
   "display_name": "Python 3 (ipykernel)",
   "language": "python",
   "name": "python3"
  },
  "language_info": {
   "codemirror_mode": {
    "name": "ipython",
    "version": 3
   },
   "file_extension": ".py",
   "mimetype": "text/x-python",
   "name": "python",
   "nbconvert_exporter": "python",
   "pygments_lexer": "ipython3",
   "version": "3.10.8"
  }
 },
 "nbformat": 4,
 "nbformat_minor": 5
}
